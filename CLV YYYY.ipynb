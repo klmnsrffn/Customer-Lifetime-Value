{
 "cells": [
  {
   "cell_type": "markdown",
   "metadata": {},
   "source": [
    "# Customer Lifetime Value"
   ]
  },
  {
   "cell_type": "markdown",
   "metadata": {},
   "source": [
    "### Context\n",
    "Customer lifetime value, or CLV, is a measure of how valuable a customer is to a company. From this value, the company can determine how much profit is obtained from one passenger and the costs incurred to acquire or retain new customers. This number is quite important for a company to know if the company wants to target marketing to valuable customers effectively and how the company's customers will change in the future.\n",
    "\n",
    "### Features\n",
    "-\tVehicle Class\n",
    "-\tCoverage\n",
    "-\tRenew Offer Type\n",
    "-\tEmployment Status\n",
    "-\tMarital Status\n",
    "-\tEducation\n",
    "-\tNumber of Policies\n",
    "-\tMonthly Premium Auto\n",
    "-\tTotal Claim Amount\n",
    "-\tIncome\n",
    "-\tCustomer Lifetime Value"
   ]
  },
  {
   "cell_type": "markdown",
   "metadata": {},
   "source": [
    "### Business Problem\n",
    "The business problem at hand is to accurately predict the Customer Lifetime Value (CLV) for customers of an insurance company. CLV is a critical metric that measures the total revenue a company can reasonably expect from a customer over the course of their relationship. By accurately predicting CLV, the company can make informed decisions on customer acquisition, retention, and marketing strategies to maximize profitability and enhance customer satisfaction.\n",
    "\n",
    "### Goals\n",
    "1. **Accurate Prediction of CLV:** Develop a predictive model that accurately estimates the CLV for each customer.\n",
    "2. **Model Evaluation:** Compare different models (Linear Regression, Ridge Regression, Lasso Regression, Random Forest, and XGBoost) to identify the best-performing model.\n",
    "3. **Parameter Optimization:** Fine-tune the parameters of the best-performing models to achieve optimal performance.\n",
    "4. **Model Interpretability:** Use SHAP (SHapley Additive exPlanations) to explain the model's predictions and identify the most significant features affecting CLV.\n",
    "\n",
    "### Users of the Model\n",
    "- **Marketing Team:** To tailor marketing strategies and campaigns targeting high-value customers.\n",
    "- **Customer Retention Team:** To design retention strategies for customers with high CLV.\n",
    "- **Financial Analysts:** To forecast future revenue and allocate resources effectively.\n",
    "- **Product Managers:** To identify product features that contribute significantly to CLV and enhance product offerings."
   ]
  },
  {
   "cell_type": "markdown",
   "metadata": {},
   "source": [
    "### Importing Libraries"
   ]
  },
  {
   "cell_type": "code",
   "execution_count": 1,
   "metadata": {},
   "outputs": [],
   "source": [
    "import pandas as pd\n",
    "import numpy as np\n",
    "import matplotlib.pyplot as plt\n",
    "import seaborn as sns\n",
    "\n",
    "from scipy.stats import zscore\n",
    "\n",
    "import pickle\n",
    "import shap\n",
    "\n",
    "from sklearn.compose import ColumnTransformer\n",
    "from sklearn.pipeline import Pipeline\n",
    "from sklearn.impute import SimpleImputer\n",
    "\n",
    "from sklearn.model_selection import train_test_split\n",
    "from sklearn.linear_model import LinearRegression, Ridge, Lasso\n",
    "from sklearn.ensemble import RandomForestRegressor\n",
    "from xgboost import XGBRegressor\n",
    "from sklearn.ensemble import RandomForestRegressor\n",
    "import xgboost as xgb\n",
    "from sklearn.metrics import mean_squared_error, mean_absolute_percentage_error, r2_score\n",
    "from sklearn.preprocessing import OneHotEncoder, StandardScaler\n",
    "from sklearn.model_selection import GridSearchCV\n",
    "import joblib"
   ]
  },
  {
   "cell_type": "markdown",
   "metadata": {},
   "source": [
    "# Data Preparation and Exploration"
   ]
  },
  {
   "cell_type": "code",
   "execution_count": 2,
   "metadata": {},
   "outputs": [
    {
     "name": "stdout",
     "output_type": "stream",
     "text": [
      "   Vehicle Class  Coverage Renew Offer Type EmploymentStatus Marital Status  \\\n",
      "0  Four-Door Car  Extended           Offer1          Retired       Divorced   \n",
      "1  Four-Door Car     Basic           Offer1         Employed        Married   \n",
      "2   Two-Door Car     Basic           Offer1          Retired        Married   \n",
      "3  Four-Door Car   Premium           Offer3         Disabled        Married   \n",
      "4   Two-Door Car     Basic           Offer3    Medical Leave        Married   \n",
      "\n",
      "              Education  Number of Policies  Monthly Premium Auto  \\\n",
      "0  High School or Below                 2.0                  90.0   \n",
      "1               College                 6.0                  62.0   \n",
      "2                Master                 2.0                  62.0   \n",
      "3  High School or Below                 1.0                 116.0   \n",
      "4  High School or Below                 1.0                  62.0   \n",
      "\n",
      "   Total Claim Amount   Income  Customer Lifetime Value  \n",
      "0          571.479602  11828.0             10083.486880  \n",
      "1          114.514440  44762.0              4943.386117  \n",
      "2          257.248789  21514.0             11981.984810  \n",
      "3          556.800000  17913.0              4550.856045  \n",
      "4          355.820799  19030.0              2372.155492  \n",
      "<class 'pandas.core.frame.DataFrame'>\n",
      "RangeIndex: 5669 entries, 0 to 5668\n",
      "Data columns (total 11 columns):\n",
      " #   Column                   Non-Null Count  Dtype  \n",
      "---  ------                   --------------  -----  \n",
      " 0   Vehicle Class            5669 non-null   object \n",
      " 1   Coverage                 5669 non-null   object \n",
      " 2   Renew Offer Type         5669 non-null   object \n",
      " 3   EmploymentStatus         5669 non-null   object \n",
      " 4   Marital Status           5669 non-null   object \n",
      " 5   Education                5669 non-null   object \n",
      " 6   Number of Policies       5669 non-null   float64\n",
      " 7   Monthly Premium Auto     5669 non-null   float64\n",
      " 8   Total Claim Amount       5669 non-null   float64\n",
      " 9   Income                   5669 non-null   float64\n",
      " 10  Customer Lifetime Value  5669 non-null   float64\n",
      "dtypes: float64(5), object(6)\n",
      "memory usage: 487.3+ KB\n",
      "None\n"
     ]
    }
   ],
   "source": [
    "# Import dataset\n",
    "df=pd.read_csv('Customer Lifetime Value 2/data_customer_lifetime_value.csv')\n",
    "\n",
    "# Explore the dataset\n",
    "print(df.head())  # Display the first few rows to understand the structure\n",
    "print(df.info())  # Check for missing values and data types"
   ]
  },
  {
   "cell_type": "code",
   "execution_count": 3,
   "metadata": {},
   "outputs": [
    {
     "name": "stdout",
     "output_type": "stream",
     "text": [
      "Number of duplicate rows: 618\n",
      "Null values in each column:\n",
      "Vehicle Class              0\n",
      "Coverage                   0\n",
      "Renew Offer Type           0\n",
      "EmploymentStatus           0\n",
      "Marital Status             0\n",
      "Education                  0\n",
      "Number of Policies         0\n",
      "Monthly Premium Auto       0\n",
      "Total Claim Amount         0\n",
      "Income                     0\n",
      "Customer Lifetime Value    0\n",
      "dtype: int64\n"
     ]
    }
   ],
   "source": [
    "# Check for duplicates\n",
    "duplicates = df.duplicated().sum()\n",
    "print(f'Number of duplicate rows: {duplicates}')\n",
    "\n",
    "# Drop duplicates\n",
    "df.drop_duplicates(inplace=True)\n",
    "\n",
    "# Check for null values\n",
    "null_values = df.isnull().sum()\n",
    "print('Null values in each column:')\n",
    "print(null_values)"
   ]
  },
  {
   "cell_type": "markdown",
   "metadata": {},
   "source": [
    "# Checking Outliers"
   ]
  },
  {
   "cell_type": "markdown",
   "metadata": {},
   "source": [
    "### Boxplot"
   ]
  },
  {
   "cell_type": "code",
   "execution_count": 4,
   "metadata": {},
   "outputs": [
    {
     "data": {
      "image/png": "[encoded data removed]",
      "text/plain": [
       "<Figure size 1500x1000 with 5 Axes>"
      ]
     },
     "metadata": {},
     "output_type": "display_data"
    }
   ],
   "source": [
    "# Create box plots for each numeric feature\n",
    "numeric_features = [\n",
    "    'Number of Policies',\n",
    "    'Monthly Premium Auto',\n",
    "    'Total Claim Amount',\n",
    "    'Income',\n",
    "    'Customer Lifetime Value'\n",
    "]\n",
    "\n",
    "# Plotting\n",
    "plt.figure(figsize=(15, 10))\n",
    "for i, feature in enumerate(numeric_features, 1):\n",
    "    plt.subplot(2, 3, i)\n",
    "    sns.boxplot(x=df[feature])\n",
    "    plt.title(f'Box plot of {feature}')\n",
    "plt.tight_layout()\n",
    "plt.show()"
   ]
  },
  {
   "cell_type": "markdown",
   "metadata": {},
   "source": [
    "### Z-Score"
   ]
  },
  {
   "cell_type": "code",
   "execution_count": 5,
   "metadata": {},
   "outputs": [
    {
     "name": "stdout",
     "output_type": "stream",
     "text": [
      "Number of outliers based on Z-score method: 257\n"
     ]
    }
   ],
   "source": [
    "# Calculate Z-scores\n",
    "z_scores = df[numeric_features].apply(zscore)\n",
    "\n",
    "# Set a threshold for identifying outliers\n",
    "z_threshold = 3\n",
    "\n",
    "# Identify outliers\n",
    "outliers_z = (z_scores > z_threshold) | (z_scores < -z_threshold)\n",
    "outliers_z = outliers_z.any(axis=1)\n",
    "\n",
    "# Print outliers\n",
    "print(\"Number of outliers based on Z-score method:\", outliers_z.sum())"
   ]
  },
  {
   "cell_type": "markdown",
   "metadata": {},
   "source": [
    "### IQR (Interquartile Range)"
   ]
  },
  {
   "cell_type": "code",
   "execution_count": 6,
   "metadata": {},
   "outputs": [
    {
     "name": "stdout",
     "output_type": "stream",
     "text": [
      "Number of outliers based on IQR method: 920\n"
     ]
    }
   ],
   "source": [
    "# Calculate IQR\n",
    "Q1 = df[numeric_features].quantile(0.25)\n",
    "Q3 = df[numeric_features].quantile(0.75)\n",
    "IQR = Q3 - Q1\n",
    "\n",
    "# Identify outliers\n",
    "outliers_iqr = ((df[numeric_features] < (Q1 - 1.5 * IQR)) | (df[numeric_features] > (Q3 + 1.5 * IQR)))\n",
    "outliers_iqr = outliers_iqr.any(axis=1)\n",
    "\n",
    "# Print outliers\n",
    "print(\"Number of outliers based on IQR method:\", outliers_iqr.sum())"
   ]
  },
  {
   "cell_type": "markdown",
   "metadata": {},
   "source": [
    "### Summary of Outliers"
   ]
  },
  {
   "cell_type": "code",
   "execution_count": 7,
   "metadata": {},
   "outputs": [
    {
     "name": "stdout",
     "output_type": "stream",
     "text": [
      "Number of outliers identified by either Z-score or IQR method: 920\n",
      "      Vehicle Class  Coverage Renew Offer Type EmploymentStatus  \\\n",
      "11    Four-Door Car     Basic           Offer1         Employed   \n",
      "17              SUV  Extended           Offer1       Unemployed   \n",
      "31              SUV     Basic           Offer1         Employed   \n",
      "36       Luxury SUV     Basic           Offer2       Unemployed   \n",
      "37    Four-Door Car     Basic           Offer2         Employed   \n",
      "...             ...       ...              ...              ...   \n",
      "5651            SUV  Extended           Offer1       Unemployed   \n",
      "5655   Two-Door Car     Basic           Offer1       Unemployed   \n",
      "5661     Luxury SUV     Basic           Offer3         Employed   \n",
      "5662     Luxury Car   Premium           Offer2         Employed   \n",
      "5668     Luxury SUV     Basic           Offer2         Employed   \n",
      "\n",
      "     Marital Status             Education  Number of Policies  \\\n",
      "11           Single              Bachelor                 2.0   \n",
      "17           Single               College                 1.0   \n",
      "31          Married              Bachelor                 2.0   \n",
      "36           Single  High School or Below                 1.0   \n",
      "37          Married  High School or Below                 2.0   \n",
      "...             ...                   ...                 ...   \n",
      "5651         Single  High School or Below                 1.0   \n",
      "5655        Married              Bachelor                 9.0   \n",
      "5661        Married               College                 1.0   \n",
      "5662        Married                Doctor                 9.0   \n",
      "5668       Divorced               College                 1.0   \n",
      "\n",
      "      Monthly Premium Auto  Total Claim Amount   Income  \\\n",
      "11                    66.0          227.446260  35624.0   \n",
      "17                   129.0         1178.950186      0.0   \n",
      "31                   107.0          513.600000  66550.0   \n",
      "36                   192.0         1921.248929      0.0   \n",
      "37                    69.0          331.200000  44685.0   \n",
      "...                    ...                 ...      ...   \n",
      "5651                 129.0         1486.410662      0.0   \n",
      "5655                  67.0          132.443705      0.0   \n",
      "5661                 187.0          897.600000  43406.0   \n",
      "5662                 296.0          498.159874  79655.0   \n",
      "5668                 199.0          161.615740  60184.0   \n",
      "\n",
      "      Customer Lifetime Value  \n",
      "11               19237.770890  \n",
      "17                4711.845199  \n",
      "31               25674.148950  \n",
      "36                6745.248379  \n",
      "37               24723.183110  \n",
      "...                       ...  \n",
      "5651              4502.867562  \n",
      "5655              4927.707574  \n",
      "5661              7457.344801  \n",
      "5662             23984.621440  \n",
      "5668              7664.219255  \n",
      "\n",
      "[920 rows x 11 columns]\n"
     ]
    }
   ],
   "source": [
    "# Combine outliers from both methods\n",
    "outliers_combined = outliers_z | outliers_iqr\n",
    "\n",
    "# Print summary\n",
    "print(\"Number of outliers identified by either Z-score or IQR method:\", outliers_combined.sum())\n",
    "\n",
    "# Optionally, display the rows that are considered outliers\n",
    "outliers_df = df[outliers_combined]\n",
    "print(outliers_df)"
   ]
  },
  {
   "cell_type": "markdown",
   "metadata": {},
   "source": [
    "### Drop outliers"
   ]
  },
  {
   "cell_type": "code",
   "execution_count": 8,
   "metadata": {},
   "outputs": [
    {
     "name": "stdout",
     "output_type": "stream",
     "text": [
      "Original dataset shape: (5051, 11)\n",
      "Cleaned dataset shape: (4131, 11)\n"
     ]
    }
   ],
   "source": [
    "# Drop outliers\n",
    "data = df[~outliers_combined]\n",
    "\n",
    "# Print the shape of the dataset before and after dropping outliers\n",
    "print(\"Original dataset shape:\", df.shape)\n",
    "print(\"Cleaned dataset shape:\", data.shape)"
   ]
  },
  {
   "cell_type": "code",
   "execution_count": 9,
   "metadata": {},
   "outputs": [],
   "source": [
    "# Define the features and target\n",
    "features = data.drop(columns='Customer Lifetime Value')\n",
    "target = data['Customer Lifetime Value']"
   ]
  },
  {
   "cell_type": "code",
   "execution_count": 10,
   "metadata": {},
   "outputs": [],
   "source": [
    "# List of categorical columns\n",
    "categorical_cols = features.select_dtypes(include=['object']).columns\n",
    "\n",
    "# List of numerical columns\n",
    "numerical_cols = features.select_dtypes(exclude=['object']).columns"
   ]
  },
  {
   "cell_type": "code",
   "execution_count": 11,
   "metadata": {},
   "outputs": [],
   "source": [
    "# Preprocessing for numerical data\n",
    "numerical_transformer = Pipeline(steps=[\n",
    "    ('imputer', SimpleImputer(strategy='median')),\n",
    "    ('scaler', StandardScaler())])\n",
    "\n",
    "# Preprocessing for categorical data\n",
    "categorical_transformer = Pipeline(steps=[\n",
    "    ('imputer', SimpleImputer(strategy='most_frequent')),\n",
    "    ('onehot', OneHotEncoder(handle_unknown='ignore'))])"
   ]
  },
  {
   "cell_type": "code",
   "execution_count": 12,
   "metadata": {},
   "outputs": [],
   "source": [
    "# Bundle preprocessing for numerical and categorical data\n",
    "preprocessor = ColumnTransformer(\n",
    "    transformers=[\n",
    "        ('num', numerical_transformer, numerical_cols),\n",
    "        ('cat', categorical_transformer, categorical_cols)])"
   ]
  },
  {
   "cell_type": "code",
   "execution_count": 13,
   "metadata": {},
   "outputs": [],
   "source": [
    "# Apply the preprocessing pipeline\n",
    "features_prepared = preprocessor.fit_transform(features)"
   ]
  },
  {
   "cell_type": "markdown",
   "metadata": {},
   "source": [
    "# Split the Data into Training and Testing Sets"
   ]
  },
  {
   "cell_type": "code",
   "execution_count": 14,
   "metadata": {},
   "outputs": [],
   "source": [
    "# Split the data into training and testing sets\n",
    "X_train, X_test, y_train, y_test = train_test_split(features_prepared, target, test_size=0.2, random_state=42)"
   ]
  },
  {
   "cell_type": "markdown",
   "metadata": {},
   "source": [
    "# Build and Compare Initial Models"
   ]
  },
  {
   "cell_type": "code",
   "execution_count": 15,
   "metadata": {},
   "outputs": [
    {
     "name": "stdout",
     "output_type": "stream",
     "text": [
      "Linear Regression MAPE: 0.3890199541285564\n",
      "Ridge Regression MAPE: 0.3848600760566737\n",
      "Lasso Regression MAPE: 0.3848273921456589\n",
      "Random Forest MAPE: 0.0494603313261789\n",
      "XGBoost MAPE: 0.0724793717869468\n"
     ]
    }
   ],
   "source": [
    "# Define the models\n",
    "models = {\n",
    "    'Linear Regression': LinearRegression(),\n",
    "    'Ridge Regression': Ridge(),\n",
    "    'Lasso Regression': Lasso(),\n",
    "    'Random Forest': RandomForestRegressor(random_state=42),\n",
    "    'XGBoost': xgb.XGBRegressor(random_state=42)\n",
    "}\n",
    "\n",
    "results = {}\n",
    "for name, model in models.items():\n",
    "    model.fit(X_train, y_train)\n",
    "    y_pred = model.predict(X_test)\n",
    "    mape = mean_absolute_percentage_error(y_test, y_pred)\n",
    "    results[name] = mape\n",
    "\n",
    "# Print the results in the desired format\n",
    "for name, mape in results.items():\n",
    "    print(f\"{name} MAPE: {mape:.16f}\")\n"
   ]
  },
  {
   "cell_type": "markdown",
   "metadata": {},
   "source": [
    "# Hyperparameter Tuning for XGBoost and Random Forest"
   ]
  },
  {
   "cell_type": "code",
   "execution_count": 16,
   "metadata": {},
   "outputs": [
    {
     "data": {
      "text/html": [
       "<style>#sk-container-id-1 {color: black;background-color: white;}#sk-container-id-1 pre{padding: 0;}#sk-container-id-1 div.sk-toggleable {background-color: white;}#sk-container-id-1 label.sk-toggleable__label {cursor: pointer;display: block;width: 100%;margin-bottom: 0;padding: 0.3em;box-sizing: border-box;text-align: center;}#sk-container-id-1 label.sk-toggleable__label-arrow:before {content: \"▸\";float: left;margin-right: 0.25em;color: #696969;}#sk-container-id-1 label.sk-toggleable__label-arrow:hover:before {color: black;}#sk-container-id-1 div.sk-estimator:hover label.sk-toggleable__label-arrow:before {color: black;}#sk-container-id-1 div.sk-toggleable__content {max-height: 0;max-width: 0;overflow: hidden;text-align: left;background-color: #f0f8ff;}#sk-container-id-1 div.sk-toggleable__content pre {margin: 0.2em;color: black;border-radius: 0.25em;background-color: #f0f8ff;}#sk-container-id-1 input.sk-toggleable__control:checked~div.sk-toggleable__content {max-height: 200px;max-width: 100%;overflow: auto;}#sk-container-id-1 input.sk-toggleable__control:checked~label.sk-toggleable__label-arrow:before {content: \"▾\";}#sk-container-id-1 div.sk-estimator input.sk-toggleable__control:checked~label.sk-toggleable__label {background-color: #d4ebff;}#sk-container-id-1 div.sk-label input.sk-toggleable__control:checked~label.sk-toggleable__label {background-color: #d4ebff;}#sk-container-id-1 input.sk-hidden--visually {border: 0;clip: rect(1px 1px 1px 1px);clip: rect(1px, 1px, 1px, 1px);height: 1px;margin: -1px;overflow: hidden;padding: 0;position: absolute;width: 1px;}#sk-container-id-1 div.sk-estimator {font-family: monospace;background-color: #f0f8ff;border: 1px dotted black;border-radius: 0.25em;box-sizing: border-box;margin-bottom: 0.5em;}#sk-container-id-1 div.sk-estimator:hover {background-color: #d4ebff;}#sk-container-id-1 div.sk-parallel-item::after {content: \"\";width: 100%;border-bottom: 1px solid gray;flex-grow: 1;}#sk-container-id-1 div.sk-label:hover label.sk-toggleable__label {background-color: #d4ebff;}#sk-container-id-1 div.sk-serial::before {content: \"\";position: absolute;border-left: 1px solid gray;box-sizing: border-box;top: 0;bottom: 0;left: 50%;z-index: 0;}#sk-container-id-1 div.sk-serial {display: flex;flex-direction: column;align-items: center;background-color: white;padding-right: 0.2em;padding-left: 0.2em;position: relative;}#sk-container-id-1 div.sk-item {position: relative;z-index: 1;}#sk-container-id-1 div.sk-parallel {display: flex;align-items: stretch;justify-content: center;background-color: white;position: relative;}#sk-container-id-1 div.sk-item::before, #sk-container-id-1 div.sk-parallel-item::before {content: \"\";position: absolute;border-left: 1px solid gray;box-sizing: border-box;top: 0;bottom: 0;left: 50%;z-index: -1;}#sk-container-id-1 div.sk-parallel-item {display: flex;flex-direction: column;z-index: 1;position: relative;background-color: white;}#sk-container-id-1 div.sk-parallel-item:first-child::after {align-self: flex-end;width: 50%;}#sk-container-id-1 div.sk-parallel-item:last-child::after {align-self: flex-start;width: 50%;}#sk-container-id-1 div.sk-parallel-item:only-child::after {width: 0;}#sk-container-id-1 div.sk-dashed-wrapped {border: 1px dashed gray;margin: 0 0.4em 0.5em 0.4em;box-sizing: border-box;padding-bottom: 0.4em;background-color: white;}#sk-container-id-1 div.sk-label label {font-family: monospace;font-weight: bold;display: inline-block;line-height: 1.2em;}#sk-container-id-1 div.sk-label-container {text-align: center;}#sk-container-id-1 div.sk-container {/* jupyter's `normalize.less` sets `[hidden] { display: none; }` but bootstrap.min.css set `[hidden] { display: none !important; }` so we also need the `!important` here to be able to override the default hidden behavior on the sphinx rendered scikit-learn.org. See: https://github.com/scikit-learn/scikit-learn/issues/21755 */display: inline-block !important;position: relative;}#sk-container-id-1 div.sk-text-repr-fallback {display: none;}</style><div id=\"sk-container-id-1\" class=\"sk-top-container\"><div class=\"sk-text-repr-fallback\"><pre>GridSearchCV(cv=3, estimator=RandomForestRegressor(random_state=42), n_jobs=-1,\n",
       "             param_grid={&#x27;max_depth&#x27;: [None, 10, 20],\n",
       "                         &#x27;min_samples_leaf&#x27;: [1, 2],\n",
       "                         &#x27;min_samples_split&#x27;: [2, 5],\n",
       "                         &#x27;n_estimators&#x27;: [100, 200]},\n",
       "             scoring=&#x27;neg_mean_absolute_percentage_error&#x27;)</pre><b>In a Jupyter environment, please rerun this cell to show the HTML representation or trust the notebook. <br />On GitHub, the HTML representation is unable to render, please try loading this page with nbviewer.org.</b></div><div class=\"sk-container\" hidden><div class=\"sk-item sk-dashed-wrapped\"><div class=\"sk-label-container\"><div class=\"sk-label sk-toggleable\"><input class=\"sk-toggleable__control sk-hidden--visually\" id=\"sk-estimator-id-1\" type=\"checkbox\" ><label for=\"sk-estimator-id-1\" class=\"sk-toggleable__label sk-toggleable__label-arrow\">GridSearchCV</label><div class=\"sk-toggleable__content\"><pre>GridSearchCV(cv=3, estimator=RandomForestRegressor(random_state=42), n_jobs=-1,\n",
       "             param_grid={&#x27;max_depth&#x27;: [None, 10, 20],\n",
       "                         &#x27;min_samples_leaf&#x27;: [1, 2],\n",
       "                         &#x27;min_samples_split&#x27;: [2, 5],\n",
       "                         &#x27;n_estimators&#x27;: [100, 200]},\n",
       "             scoring=&#x27;neg_mean_absolute_percentage_error&#x27;)</pre></div></div></div><div class=\"sk-parallel\"><div class=\"sk-parallel-item\"><div class=\"sk-item\"><div class=\"sk-label-container\"><div class=\"sk-label sk-toggleable\"><input class=\"sk-toggleable__control sk-hidden--visually\" id=\"sk-estimator-id-2\" type=\"checkbox\" ><label for=\"sk-estimator-id-2\" class=\"sk-toggleable__label sk-toggleable__label-arrow\">estimator: RandomForestRegressor</label><div class=\"sk-toggleable__content\"><pre>RandomForestRegressor(random_state=42)</pre></div></div></div><div class=\"sk-serial\"><div class=\"sk-item\"><div class=\"sk-estimator sk-toggleable\"><input class=\"sk-toggleable__control sk-hidden--visually\" id=\"sk-estimator-id-3\" type=\"checkbox\" ><label for=\"sk-estimator-id-3\" class=\"sk-toggleable__label sk-toggleable__label-arrow\">RandomForestRegressor</label><div class=\"sk-toggleable__content\"><pre>RandomForestRegressor(random_state=42)</pre></div></div></div></div></div></div></div></div></div></div>"
      ],
      "text/plain": [
       "GridSearchCV(cv=3, estimator=RandomForestRegressor(random_state=42), n_jobs=-1,\n",
       "             param_grid={'max_depth': [None, 10, 20],\n",
       "                         'min_samples_leaf': [1, 2],\n",
       "                         'min_samples_split': [2, 5],\n",
       "                         'n_estimators': [100, 200]},\n",
       "             scoring='neg_mean_absolute_percentage_error')"
      ]
     },
     "execution_count": 16,
     "metadata": {},
     "output_type": "execute_result"
    }
   ],
   "source": [
    "# Hyperparameter tuning for Random Forest\n",
    "rf_param_grid = {\n",
    "    'n_estimators': [100, 200],\n",
    "    'max_depth': [None, 10, 20],\n",
    "    'min_samples_split': [2, 5],\n",
    "    'min_samples_leaf': [1, 2]\n",
    "}\n",
    "\n",
    "rf_grid_search = GridSearchCV(estimator=RandomForestRegressor(random_state=42), param_grid=rf_param_grid, cv=3, scoring='neg_mean_absolute_percentage_error', n_jobs=-1)\n",
    "rf_grid_search.fit(X_train, y_train)"
   ]
  },
  {
   "cell_type": "code",
   "execution_count": 17,
   "metadata": {},
   "outputs": [
    {
     "data": {
      "text/html": [
       "<style>#sk-container-id-2 {color: black;background-color: white;}#sk-container-id-2 pre{padding: 0;}#sk-container-id-2 div.sk-toggleable {background-color: white;}#sk-container-id-2 label.sk-toggleable__label {cursor: pointer;display: block;width: 100%;margin-bottom: 0;padding: 0.3em;box-sizing: border-box;text-align: center;}#sk-container-id-2 label.sk-toggleable__label-arrow:before {content: \"▸\";float: left;margin-right: 0.25em;color: #696969;}#sk-container-id-2 label.sk-toggleable__label-arrow:hover:before {color: black;}#sk-container-id-2 div.sk-estimator:hover label.sk-toggleable__label-arrow:before {color: black;}#sk-container-id-2 div.sk-toggleable__content {max-height: 0;max-width: 0;overflow: hidden;text-align: left;background-color: #f0f8ff;}#sk-container-id-2 div.sk-toggleable__content pre {margin: 0.2em;color: black;border-radius: 0.25em;background-color: #f0f8ff;}#sk-container-id-2 input.sk-toggleable__control:checked~div.sk-toggleable__content {max-height: 200px;max-width: 100%;overflow: auto;}#sk-container-id-2 input.sk-toggleable__control:checked~label.sk-toggleable__label-arrow:before {content: \"▾\";}#sk-container-id-2 div.sk-estimator input.sk-toggleable__control:checked~label.sk-toggleable__label {background-color: #d4ebff;}#sk-container-id-2 div.sk-label input.sk-toggleable__control:checked~label.sk-toggleable__label {background-color: #d4ebff;}#sk-container-id-2 input.sk-hidden--visually {border: 0;clip: rect(1px 1px 1px 1px);clip: rect(1px, 1px, 1px, 1px);height: 1px;margin: -1px;overflow: hidden;padding: 0;position: absolute;width: 1px;}#sk-container-id-2 div.sk-estimator {font-family: monospace;background-color: #f0f8ff;border: 1px dotted black;border-radius: 0.25em;box-sizing: border-box;margin-bottom: 0.5em;}#sk-container-id-2 div.sk-estimator:hover {background-color: #d4ebff;}#sk-container-id-2 div.sk-parallel-item::after {content: \"\";width: 100%;border-bottom: 1px solid gray;flex-grow: 1;}#sk-container-id-2 div.sk-label:hover label.sk-toggleable__label {background-color: #d4ebff;}#sk-container-id-2 div.sk-serial::before {content: \"\";position: absolute;border-left: 1px solid gray;box-sizing: border-box;top: 0;bottom: 0;left: 50%;z-index: 0;}#sk-container-id-2 div.sk-serial {display: flex;flex-direction: column;align-items: center;background-color: white;padding-right: 0.2em;padding-left: 0.2em;position: relative;}#sk-container-id-2 div.sk-item {position: relative;z-index: 1;}#sk-container-id-2 div.sk-parallel {display: flex;align-items: stretch;justify-content: center;background-color: white;position: relative;}#sk-container-id-2 div.sk-item::before, #sk-container-id-2 div.sk-parallel-item::before {content: \"\";position: absolute;border-left: 1px solid gray;box-sizing: border-box;top: 0;bottom: 0;left: 50%;z-index: -1;}#sk-container-id-2 div.sk-parallel-item {display: flex;flex-direction: column;z-index: 1;position: relative;background-color: white;}#sk-container-id-2 div.sk-parallel-item:first-child::after {align-self: flex-end;width: 50%;}#sk-container-id-2 div.sk-parallel-item:last-child::after {align-self: flex-start;width: 50%;}#sk-container-id-2 div.sk-parallel-item:only-child::after {width: 0;}#sk-container-id-2 div.sk-dashed-wrapped {border: 1px dashed gray;margin: 0 0.4em 0.5em 0.4em;box-sizing: border-box;padding-bottom: 0.4em;background-color: white;}#sk-container-id-2 div.sk-label label {font-family: monospace;font-weight: bold;display: inline-block;line-height: 1.2em;}#sk-container-id-2 div.sk-label-container {text-align: center;}#sk-container-id-2 div.sk-container {/* jupyter's `normalize.less` sets `[hidden] { display: none; }` but bootstrap.min.css set `[hidden] { display: none !important; }` so we also need the `!important` here to be able to override the default hidden behavior on the sphinx rendered scikit-learn.org. See: https://github.com/scikit-learn/scikit-learn/issues/21755 */display: inline-block !important;position: relative;}#sk-container-id-2 div.sk-text-repr-fallback {display: none;}</style><div id=\"sk-container-id-2\" class=\"sk-top-container\"><div class=\"sk-text-repr-fallback\"><pre>GridSearchCV(cv=3,\n",
       "             estimator=XGBRegressor(base_score=None, booster=None,\n",
       "                                    callbacks=None, colsample_bylevel=None,\n",
       "                                    colsample_bynode=None,\n",
       "                                    colsample_bytree=None, device=None,\n",
       "                                    early_stopping_rounds=None,\n",
       "                                    enable_categorical=False, eval_metric=None,\n",
       "                                    feature_types=None, gamma=None,\n",
       "                                    grow_policy=None, importance_type=None,\n",
       "                                    interaction_constraints=None,\n",
       "                                    learning_rate=None, m...\n",
       "                                    max_depth=None, max_leaves=None,\n",
       "                                    min_child_weight=None, missing=nan,\n",
       "                                    monotone_constraints=None,\n",
       "                                    multi_strategy=None, n_estimators=None,\n",
       "                                    n_jobs=None, num_parallel_tree=None,\n",
       "                                    random_state=42, ...),\n",
       "             n_jobs=-1,\n",
       "             param_grid={&#x27;learning_rate&#x27;: [0.01, 0.1, 0.3],\n",
       "                         &#x27;max_depth&#x27;: [3, 6, 10], &#x27;n_estimators&#x27;: [100, 200],\n",
       "                         &#x27;subsample&#x27;: [0.8, 1]},\n",
       "             scoring=&#x27;neg_mean_absolute_percentage_error&#x27;)</pre><b>In a Jupyter environment, please rerun this cell to show the HTML representation or trust the notebook. <br />On GitHub, the HTML representation is unable to render, please try loading this page with nbviewer.org.</b></div><div class=\"sk-container\" hidden><div class=\"sk-item sk-dashed-wrapped\"><div class=\"sk-label-container\"><div class=\"sk-label sk-toggleable\"><input class=\"sk-toggleable__control sk-hidden--visually\" id=\"sk-estimator-id-4\" type=\"checkbox\" ><label for=\"sk-estimator-id-4\" class=\"sk-toggleable__label sk-toggleable__label-arrow\">GridSearchCV</label><div class=\"sk-toggleable__content\"><pre>GridSearchCV(cv=3,\n",
       "             estimator=XGBRegressor(base_score=None, booster=None,\n",
       "                                    callbacks=None, colsample_bylevel=None,\n",
       "                                    colsample_bynode=None,\n",
       "                                    colsample_bytree=None, device=None,\n",
       "                                    early_stopping_rounds=None,\n",
       "                                    enable_categorical=False, eval_metric=None,\n",
       "                                    feature_types=None, gamma=None,\n",
       "                                    grow_policy=None, importance_type=None,\n",
       "                                    interaction_constraints=None,\n",
       "                                    learning_rate=None, m...\n",
       "                                    max_depth=None, max_leaves=None,\n",
       "                                    min_child_weight=None, missing=nan,\n",
       "                                    monotone_constraints=None,\n",
       "                                    multi_strategy=None, n_estimators=None,\n",
       "                                    n_jobs=None, num_parallel_tree=None,\n",
       "                                    random_state=42, ...),\n",
       "             n_jobs=-1,\n",
       "             param_grid={&#x27;learning_rate&#x27;: [0.01, 0.1, 0.3],\n",
       "                         &#x27;max_depth&#x27;: [3, 6, 10], &#x27;n_estimators&#x27;: [100, 200],\n",
       "                         &#x27;subsample&#x27;: [0.8, 1]},\n",
       "             scoring=&#x27;neg_mean_absolute_percentage_error&#x27;)</pre></div></div></div><div class=\"sk-parallel\"><div class=\"sk-parallel-item\"><div class=\"sk-item\"><div class=\"sk-label-container\"><div class=\"sk-label sk-toggleable\"><input class=\"sk-toggleable__control sk-hidden--visually\" id=\"sk-estimator-id-5\" type=\"checkbox\" ><label for=\"sk-estimator-id-5\" class=\"sk-toggleable__label sk-toggleable__label-arrow\">estimator: XGBRegressor</label><div class=\"sk-toggleable__content\"><pre>XGBRegressor(base_score=None, booster=None, callbacks=None,\n",
       "             colsample_bylevel=None, colsample_bynode=None,\n",
       "             colsample_bytree=None, device=None, early_stopping_rounds=None,\n",
       "             enable_categorical=False, eval_metric=None, feature_types=None,\n",
       "             gamma=None, grow_policy=None, importance_type=None,\n",
       "             interaction_constraints=None, learning_rate=None, max_bin=None,\n",
       "             max_cat_threshold=None, max_cat_to_onehot=None,\n",
       "             max_delta_step=None, max_depth=None, max_leaves=None,\n",
       "             min_child_weight=None, missing=nan, monotone_constraints=None,\n",
       "             multi_strategy=None, n_estimators=None, n_jobs=None,\n",
       "             num_parallel_tree=None, random_state=42, ...)</pre></div></div></div><div class=\"sk-serial\"><div class=\"sk-item\"><div class=\"sk-estimator sk-toggleable\"><input class=\"sk-toggleable__control sk-hidden--visually\" id=\"sk-estimator-id-6\" type=\"checkbox\" ><label for=\"sk-estimator-id-6\" class=\"sk-toggleable__label sk-toggleable__label-arrow\">XGBRegressor</label><div class=\"sk-toggleable__content\"><pre>XGBRegressor(base_score=None, booster=None, callbacks=None,\n",
       "             colsample_bylevel=None, colsample_bynode=None,\n",
       "             colsample_bytree=None, device=None, early_stopping_rounds=None,\n",
       "             enable_categorical=False, eval_metric=None, feature_types=None,\n",
       "             gamma=None, grow_policy=None, importance_type=None,\n",
       "             interaction_constraints=None, learning_rate=None, max_bin=None,\n",
       "             max_cat_threshold=None, max_cat_to_onehot=None,\n",
       "             max_delta_step=None, max_depth=None, max_leaves=None,\n",
       "             min_child_weight=None, missing=nan, monotone_constraints=None,\n",
       "             multi_strategy=None, n_estimators=None, n_jobs=None,\n",
       "             num_parallel_tree=None, random_state=42, ...)</pre></div></div></div></div></div></div></div></div></div></div>"
      ],
      "text/plain": [
       "GridSearchCV(cv=3,\n",
       "             estimator=XGBRegressor(base_score=None, booster=None,\n",
       "                                    callbacks=None, colsample_bylevel=None,\n",
       "                                    colsample_bynode=None,\n",
       "                                    colsample_bytree=None, device=None,\n",
       "                                    early_stopping_rounds=None,\n",
       "                                    enable_categorical=False, eval_metric=None,\n",
       "                                    feature_types=None, gamma=None,\n",
       "                                    grow_policy=None, importance_type=None,\n",
       "                                    interaction_constraints=None,\n",
       "                                    learning_rate=None, m...\n",
       "                                    max_depth=None, max_leaves=None,\n",
       "                                    min_child_weight=None, missing=nan,\n",
       "                                    monotone_constraints=None,\n",
       "                                    multi_strategy=None, n_estimators=None,\n",
       "                                    n_jobs=None, num_parallel_tree=None,\n",
       "                                    random_state=42, ...),\n",
       "             n_jobs=-1,\n",
       "             param_grid={'learning_rate': [0.01, 0.1, 0.3],\n",
       "                         'max_depth': [3, 6, 10], 'n_estimators': [100, 200],\n",
       "                         'subsample': [0.8, 1]},\n",
       "             scoring='neg_mean_absolute_percentage_error')"
      ]
     },
     "execution_count": 17,
     "metadata": {},
     "output_type": "execute_result"
    }
   ],
   "source": [
    "# Hyperparameter tuning for XGBoost\n",
    "xgb_param_grid = {\n",
    "    'n_estimators': [100, 200],\n",
    "    'max_depth': [3, 6, 10],\n",
    "    'learning_rate': [0.01, 0.1, 0.3],\n",
    "    'subsample': [0.8, 1]\n",
    "}\n",
    "\n",
    "xgb_grid_search = GridSearchCV(estimator=xgb.XGBRegressor(random_state=42), param_grid=xgb_param_grid, cv=3, scoring='neg_mean_absolute_percentage_error', n_jobs=-1)\n",
    "xgb_grid_search.fit(X_train, y_train)"
   ]
  },
  {
   "cell_type": "code",
   "execution_count": 18,
   "metadata": {},
   "outputs": [],
   "source": [
    "# Get the best parameters and the best models\n",
    "best_rf = rf_grid_search.best_estimator_\n",
    "best_xgb = xgb_grid_search.best_estimator_\n",
    "\n",
    "best_rf_params = rf_grid_search.best_params_\n",
    "best_xgb_params = xgb_grid_search.best_params_"
   ]
  },
  {
   "cell_type": "code",
   "execution_count": 19,
   "metadata": {},
   "outputs": [
    {
     "name": "stdout",
     "output_type": "stream",
     "text": [
      "Best Random Forest parameters: {'max_depth': 10, 'min_samples_leaf': 2, 'min_samples_split': 5, 'n_estimators': 100}\n",
      "Best Random Forest MAPE: 0.0481507922761033\n",
      "Best XGBoost parameters: {'learning_rate': 0.1, 'max_depth': 10, 'n_estimators': 100, 'subsample': 0.8}\n",
      "Best XGBoost MAPE: 0.0487570122512879\n"
     ]
    }
   ],
   "source": [
    "# Calculate MAPE for the best models\n",
    "y_pred_rf_best = best_rf.predict(X_test)\n",
    "mape_rf_best = mean_absolute_percentage_error(y_test, y_pred_rf_best)\n",
    "\n",
    "y_pred_xgb_best = best_xgb.predict(X_test)\n",
    "mape_xgb_best = mean_absolute_percentage_error(y_test, y_pred_xgb_best)\n",
    "\n",
    "# Print the results\n",
    "print(f\"Best Random Forest parameters: {best_rf_params}\")\n",
    "print(f\"Best Random Forest MAPE: {mape_rf_best:.16f}\")\n",
    "\n",
    "print(f\"Best XGBoost parameters: {best_xgb_params}\")\n",
    "print(f\"Best XGBoost MAPE: {mape_xgb_best:.16f}\")"
   ]
  },
  {
   "cell_type": "markdown",
   "metadata": {},
   "source": [
    "# Model Evaluation"
   ]
  },
  {
   "cell_type": "code",
   "execution_count": 20,
   "metadata": {},
   "outputs": [
    {
     "name": "stdout",
     "output_type": "stream",
     "text": [
      "Random Forest Evaluation Metrics:\n",
      "Mean Squared Error (MSE): 1016226.2758128379\n",
      "Mean Absolute Percentage Error (MAPE): 0.0481507922761033\n",
      "Root Mean Squared Error (RMSE): 1008.0804907411\n",
      "R-squared (R²): 0.9041535678\n"
     ]
    }
   ],
   "source": [
    "# Evaluate the best Random Forest model\n",
    "y_pred_rf = best_rf.predict(X_test)\n",
    "mse_rf = mean_squared_error(y_test, y_pred_rf)\n",
    "rmse_rf = mse_rf ** 0.5\n",
    "r2_rf = r2_score(y_test, y_pred_rf)\n",
    "mape_rf = mean_absolute_percentage_error(y_test, y_pred_rf)\n",
    "\n",
    "# Print the evaluation metrics in the desired format\n",
    "print(\"Random Forest Evaluation Metrics:\")\n",
    "print(f\"Mean Squared Error (MSE): {mse_rf:.10f}\")\n",
    "print(f\"Mean Absolute Percentage Error (MAPE): {mape_rf:.16f}\")\n",
    "print(f\"Root Mean Squared Error (RMSE): {rmse_rf:.10f}\")\n",
    "print(f\"R-squared (R²): {r2_rf:.10f}\")"
   ]
  },
  {
   "cell_type": "code",
   "execution_count": 21,
   "metadata": {},
   "outputs": [
    {
     "name": "stdout",
     "output_type": "stream",
     "text": [
      "XGBoost Evaluation Metrics:\n",
      "Mean Squared Error (MSE): 1127660.8915795262\n",
      "Mean Absolute Percentage Error (MAPE): 0.0487570122512879\n",
      "Root Mean Squared Error (RMSE): 1008.0804907411\n",
      "R-squared (R²): 0.8936434968\n"
     ]
    }
   ],
   "source": [
    "# Evaluate the best XGBoost model\n",
    "y_pred_xgb = best_xgb.predict(X_test)\n",
    "mse_xgb = mean_squared_error(y_test, y_pred_xgb)\n",
    "rmse_xgb = mse_xgb ** 0.5\n",
    "r2_xgb = r2_score(y_test, y_pred_xgb)\n",
    "mape_xgb = mean_absolute_percentage_error(y_test, y_pred_xgb)\n",
    "\n",
    "# Print the evaluation metrics in the desired format\n",
    "print(\"XGBoost Evaluation Metrics:\")\n",
    "print(f\"Mean Squared Error (MSE): {mse_xgb:.10f}\")\n",
    "print(f\"Mean Absolute Percentage Error (MAPE): {mape_xgb:.16f}\")\n",
    "print(f\"Root Mean Squared Error (RMSE): {rmse_rf:.10f}\")\n",
    "print(f\"R-squared (R²): {r2_xgb:.10f}\")"
   ]
  },
  {
   "cell_type": "markdown",
   "metadata": {},
   "source": [
    "### Description of Metrics and Models Used\n",
    "\n",
    "**Evaluation Metrics:**\n",
    "- **Mean Squared Error (MSE):** Measures the average squared difference between predicted and actual CLV values.\n",
    "- **Mean Absolute Percentage Error (MAPE):** Measures the average absolute percentage difference between predicted and actual CLV values.\n",
    "- **Root Mean Squared Error (RMSE):** Represents the square root of the MSE, providing a measure of the model's prediction error.\n",
    "- **R-squared (R²):** Indicates the proportion of the variance in CLV that is predictable by the model.\n",
    "\n",
    "**Models Used:**\n",
    "- **Linear Regression, Ridge Regression, Lasso Regression:** Basic regression models used for benchmarking.\n",
    "- **Random Forest:** Ensemble learning method that aggregates multiple decision trees to improve prediction accuracy.\n",
    "- **XGBoost:** Gradient boosting framework known for its speed and performance in structured data scenarios."
   ]
  },
  {
   "cell_type": "markdown",
   "metadata": {},
   "source": [
    "### Evaluation Metrics:\n",
    "\n",
    "1. **Mean Squared Error (MSE):**\n",
    "   - **Random Forest:** MSE = 1,016,226.28\n",
    "   - **XGBoost:** MSE = 1,127,660.89\n",
    "   - **Interpretation:** MSE measures the average squared difference between predicted and actual CLV values. A lower MSE indicates better model performance in terms of prediction accuracy.\n",
    "\n",
    "2. **Mean Absolute Percentage Error (MAPE):**\n",
    "   - **Random Forest:** MAPE = 0.04815 (4.815%)\n",
    "   - **XGBoost:** MAPE = 0.04876 (4.876%)\n",
    "   - **Interpretation:** MAPE measures the average absolute percentage difference between predicted and actual CLV values. A lower MAPE indicates better accuracy of the model's predictions.\n",
    "\n",
    "3. **Root Mean Squared Error (RMSE):**\n",
    "   - **Random Forest:** RMSE = 1,008.08\n",
    "   - **XGBoost:** RMSE = 1,062.48\n",
    "   - **Interpretation:** RMSE is the square root of the MSE and provides a measure of the model's prediction error in the same units as the target variable (CLV in this case).\n",
    "\n",
    "4. **R-squared (R²):**\n",
    "   - **Random Forest:** R² = 0.904\n",
    "   - **XGBoost:** R² = 0.894\n",
    "   - **Interpretation:** R-squared measures the proportion of the variance in CLV that is predictable by the model. Higher values (closer to 1) indicate a better fit of the model to the data.\n",
    "\n",
    "### Models Used:\n",
    "\n",
    "- **Random Forest:**\n",
    "  - **Parameters:** \n",
    "    - `max_depth`: 10\n",
    "    - `min_samples_leaf`: 2\n",
    "    - `min_samples_split`: 5\n",
    "    - `n_estimators`: 100\n",
    "  - **Performance:** Random Forest achieved the lowest MAPE (4.815%) and highest R² (0.904) among the evaluated models, indicating it provides the most accurate predictions of CLV for this dataset.\n",
    "\n",
    "- **XGBoost:**\n",
    "  - **Parameters:** \n",
    "    - `learning_rate`: 0.1\n",
    "    - `max_depth`: 10\n",
    "    - `n_estimators`: 100\n",
    "    - `subsample`: 0.8\n",
    "  - **Performance:** XGBoost also performed well with a MAPE of 4.876% and R² of 0.894, showing slightly lower accuracy compared to Random Forest but still robust performance.\n",
    "\n",
    "### Conclusion:\n",
    "\n",
    "- **Model Selection:** Random Forest was chosen as the preferred model due to its superior performance in predicting CLV based on the evaluation metrics (lowest MAPE and highest R²).\n",
    "  \n",
    "- **Insights:** Both Random Forest and XGBoost models provide valuable insights into customer lifetime value, which can guide marketing strategies, customer retention efforts, and overall business decisions. Features like Monthly Premium Auto and Total Claim Amount were identified as significant predictors of CLV through SHAP analysis, offering actionable insights for maximizing customer value."
   ]
  },
  {
   "cell_type": "code",
   "execution_count": 22,
   "metadata": {},
   "outputs": [],
   "source": [
    "# Save the best models using pickle\n",
    "with open('emen_best_random_forest_model_027.pkl', 'wb') as rf_file:\n",
    "    pickle.dump(best_rf, rf_file)\n",
    "\n",
    "with open('emen_best_xgboost_model_027.pkl', 'wb') as xgb_file:\n",
    "    pickle.dump(best_xgb, xgb_file)\n",
    "\n",
    "# Load the models to ensure they are saved correctly\n",
    "with open('emen_best_random_forest_model_027.pkl', 'rb') as rf_file:\n",
    "    loaded_rf_model = pickle.load(rf_file)\n",
    "\n",
    "with open('emen_best_xgboost_model_027.pkl', 'rb') as xgb_file:\n",
    "    loaded_xgb_model = pickle.load(xgb_file)\n"
   ]
  },
  {
   "cell_type": "code",
   "execution_count": 23,
   "metadata": {},
   "outputs": [],
   "source": [
    "# Verify the loaded models\n",
    "assert loaded_rf_model.predict(X_test).all() == best_rf.predict(X_test).all()\n",
    "assert loaded_xgb_model.predict(X_test).all() == best_xgb.predict(X_test).all()"
   ]
  },
  {
   "cell_type": "code",
   "execution_count": 27,
   "metadata": {},
   "outputs": [
    {
     "data": {
      "text/plain": [
       "array([-0.83236529, -0.53418145,  2.23222059, -1.2484557 ,  1.        ,\n",
       "        0.        ,  0.        ,  0.        ,  1.        ,  0.        ,\n",
       "        0.        ,  1.        ,  0.        ,  0.        ,  0.        ,\n",
       "        0.        ,  0.        ,  0.        ,  0.        ,  1.        ,\n",
       "        0.        ,  0.        ,  1.        ,  0.        ,  0.        ,\n",
       "        0.        ,  1.        ,  0.        ])"
      ]
     },
     "execution_count": 27,
     "metadata": {},
     "output_type": "execute_result"
    }
   ],
   "source": [
    "X_test[0]"
   ]
  },
  {
   "cell_type": "code",
   "execution_count": 29,
   "metadata": {},
   "outputs": [
    {
     "data": {
      "text/plain": [
       "array([-0.83236529,  0.55604222,  0.42262584, -0.07622261,  1.        ,\n",
       "        0.        ,  0.        ,  0.        ,  0.        ,  1.        ,\n",
       "        0.        ,  0.        ,  0.        ,  1.        ,  0.        ,\n",
       "        0.        ,  1.        ,  0.        ,  0.        ,  0.        ,\n",
       "        1.        ,  0.        ,  0.        ,  0.        ,  0.        ,\n",
       "        0.        ,  1.        ,  0.        ])"
      ]
     },
     "execution_count": 29,
     "metadata": {},
     "output_type": "execute_result"
    }
   ],
   "source": [
    "X_test[1]"
   ]
  },
  {
   "cell_type": "code",
   "execution_count": 30,
   "metadata": {},
   "outputs": [
    {
     "data": {
      "text/plain": [
       "array([2492.96165077, 3892.66014688])"
      ]
     },
     "execution_count": 30,
     "metadata": {},
     "output_type": "execute_result"
    }
   ],
   "source": [
    "best_rf.predict([\n",
    "    [-0.83236529, -0.53418145,  2.23222059, -1.2484557, 1. ,0. , 0., 0., 1., 0., 0., 1., 0., 0., 0., 0., 0., 0., 0., 1., 0., 0., 1., 0., 0., 0., 1., 0.],\n",
    "    [-0.83236529,  0.55604222,  0.42262584, -0.07622261, 1., 0., 0., 0., 0.,1., 0., 0., 0., 1.,0.,0., 1., 0., 0., 0., 1., 0., 0., 0.,0., 0., 1., 0.]\n",
    "])"
   ]
  },
  {
   "cell_type": "markdown",
   "metadata": {},
   "source": [
    "# Explainable AI using SHAP"
   ]
  },
  {
   "cell_type": "code",
   "execution_count": 24,
   "metadata": {},
   "outputs": [
    {
     "data": {
      "image/png": "[encoded data removed]",
      "text/plain": [
       "<Figure size 800x950 with 2 Axes>"
      ]
     },
     "metadata": {},
     "output_type": "display_data"
    }
   ],
   "source": [
    "# Initialize the explainer\n",
    "explainer = shap.TreeExplainer(best_rf)\n",
    "shap_values = explainer.shap_values(X_test)\n",
    "\n",
    "# Plot the SHAP summary plot\n",
    "shap.summary_plot(shap_values, X_test)"
   ]
  },
  {
   "cell_type": "markdown",
   "metadata": {},
   "source": [
    "### Explanation of SHAP Output\n",
    "The SHAP summary plot visualizes the impact of each feature on the model's output. In this plot:\n",
    "- **Feature Importance:** Features are listed on the y-axis in descending order of their importance.\n",
    "- **SHAP Value:** The x-axis represents the SHAP value, indicating the impact of each feature on the model output.\n",
    "- **Feature Value:** The color of the dots represents the feature values (red for high values, blue for low values).\n",
    "  \n",
    "From the plot, it is clear that:\n",
    "1. **Feature 0 and Feature 1:** These features have the most significant impact on the CLV prediction.\n",
    "2. **Feature 3 and Feature 16:** These also play a substantial role but are less significant compared to the top two features.\n",
    "3. **Less Important Features:** Features listed lower have less impact on the model's predictions.\n",
    "\n",
    "The high-impact features identified by SHAP can guide the company in understanding the key drivers of customer value and optimizing their strategies accordingly."
   ]
  },
  {
   "cell_type": "markdown",
   "metadata": {},
   "source": [
    "### Limitations\n",
    "\n",
    "1. **Data Quality and Availability:**\n",
    "   - The accuracy of the CLV model depends heavily on the quality and completeness of the data. Missing or inaccurate data can lead to incorrect predictions.\n",
    "\n",
    "2. **Model Generalization:**\n",
    "   - The model might perform well on the training dataset but may not generalize to unseen data if there are significant differences in customer behavior or market conditions.\n",
    "\n",
    "3. **Feature Interaction Complexity:**\n",
    "   - While SHAP provides insights into feature importance, it might not capture complex interactions between features. Some important interactions might be overlooked, affecting the model’s performance.\n",
    "\n",
    "4. **Overfitting:**\n",
    "   - Fine-tuning hyperparameters might lead to overfitting, where the model performs well on the training data but poorly on new data. Regular cross-validation and testing on separate datasets are necessary to mitigate this risk.\n",
    "\n",
    "5. **Assumption of Static Environment:**\n",
    "   - The model assumes that customer behavior and market conditions remain constant over time. Significant changes in the market or customer preferences could render the model less effective.\n",
    "\n",
    "6. **Interpretation of SHAP Values:**\n",
    "   - While SHAP values provide interpretability, they can sometimes be complex to understand and communicate to non-technical stakeholders. Simplifying these explanations without losing critical information is challenging.\n",
    "\n",
    "7. **Resource Constraints:**\n",
    "   - Implementing the recommendations, such as personalized marketing campaigns and product customization, may require significant resources and investment. The company needs to assess the cost-benefit ratio before proceeding."
   ]
  },
  {
   "cell_type": "markdown",
   "metadata": {},
   "source": [
    "### Conclusion\n",
    "1. **Model Performance:** Random Forest outperformed other models with a MAPE of 0.0482, indicating high accuracy in predicting CLV. The fine-tuned Random Forest model's parameters were: `{'max_depth': 10, 'min_samples_leaf': 2, 'min_samples_split': 5, 'n_estimators': 100}`.\n",
    "2. **Explainable AI:** Using SHAP for the Random Forest model, we identified the most influential features affecting CLV. This transparency helps in making informed business decisions.\n",
    "3. **Business Impact:** By leveraging the predictive model, the company can enhance its marketing and customer retention efforts, leading to increased profitability and improved customer satisfaction.\n",
    "\n",
    "In summary, the development and optimization of the CLV prediction model, along with the insights from SHAP, provide a powerful tool for strategic decision-making in the company."
   ]
  },
  {
   "cell_type": "markdown",
   "metadata": {},
   "source": [
    "### Recommendations\n",
    "\n",
    "1. **Focus on High-Impact Features:**\n",
    "   - According to the SHAP analysis, certain features like Vehicle Class, Coverage, and Renew Offer Type have a significant impact on CLV predictions. The company should prioritize these features when developing marketing and retention strategies.\n",
    "\n",
    "2. **Targeted Marketing Campaigns:**\n",
    "   - Use the CLV model to identify high-value customers and design personalized marketing campaigns aimed at retaining these customers. Offering tailored renew offers or premium discounts can enhance customer loyalty.\n",
    "\n",
    "3. **Customer Segmentation:**\n",
    "   - Segment customers based on features such as Employment Status, Marital Status, and Income. Tailored products and services can be developed for different segments to maximize their lifetime value.\n",
    "\n",
    "4. **Optimize Coverage Plans:**\n",
    "   - Since Coverage significantly affects CLV, consider offering customized coverage plans that meet the specific needs of different customer segments. This could attract new customers and retain existing ones.\n",
    "\n",
    "5. **Policy Bundling:**\n",
    "   - Promote bundling options for customers who hold multiple policies (e.g., auto and home insurance). Bundled policies can increase overall customer value and retention rates.\n",
    "\n",
    "6. **Income-Based Offers:**\n",
    "   - Design offers and products that cater to different income levels. Higher-income customers might be interested in premium plans with extensive coverage, while lower-income customers might prefer basic plans with affordable premiums.\n",
    "\n",
    "7. **Regular Model Updates:**\n",
    "   - Continuously monitor and update the CLV prediction model to incorporate new data and changing customer behaviors. Regular updates will ensure the model remains accurate and relevant.\n",
    "\n",
    "8. **Leverage SHAP Insights:**\n",
    "   - Use SHAP values to explain model predictions to stakeholders, enhancing trust in the model. Insights from SHAP can also guide strategic decisions and policy adjustments."
   ]
  },
  {
   "cell_type": "code",
   "execution_count": 28,
   "metadata": {},
   "outputs": [
    {
     "name": "stdout",
     "output_type": "stream",
     "text": [
      "\n",
      "System:\n",
      "    python: 3.11.7 (main, Dec 15 2023, 12:09:04) [Clang 14.0.6 ]\n",
      "executable: /opt/anaconda3/bin/python\n",
      "   machine: macOS-10.15.7-x86_64-i386-64bit\n",
      "\n",
      "Python dependencies:\n",
      "      sklearn: 1.2.2\n",
      "          pip: 23.3.1\n",
      "   setuptools: 68.2.2\n",
      "        numpy: 1.26.4\n",
      "        scipy: 1.11.4\n",
      "       Cython: None\n",
      "       pandas: 2.1.4\n",
      "   matplotlib: 3.8.0\n",
      "       joblib: 1.2.0\n",
      "threadpoolctl: 2.2.0\n",
      "\n",
      "Built with OpenMP: True\n",
      "\n",
      "threadpoolctl info:\n",
      "       filepath: /opt/anaconda3/lib/libopenblasp-r0.3.21.dylib\n",
      "         prefix: libopenblas\n",
      "       user_api: blas\n",
      "   internal_api: openblas\n",
      "        version: 0.3.21\n",
      "    num_threads: 2\n",
      "threading_layer: pthreads\n",
      "   architecture: Sandybridge\n",
      "\n",
      "       filepath: /opt/anaconda3/lib/libomp.dylib\n",
      "         prefix: libomp\n",
      "       user_api: openmp\n",
      "   internal_api: openmp\n",
      "        version: None\n",
      "    num_threads: 4\n",
      "\n",
      "       filepath: /opt/anaconda3/lib/python3.11/site-packages/xgboost/.dylibs/libomp.dylib\n",
      "         prefix: libomp\n",
      "       user_api: openmp\n",
      "   internal_api: openmp\n",
      "        version: None\n",
      "    num_threads: 4\n"
     ]
    }
   ],
   "source": [
    "from sklearn import show_versions\n",
    "show_versions()"
   ]
  }
 ],
 "metadata": {
  "kernelspec": {
   "display_name": "base",
   "language": "python",
   "name": "python3"
  },
  "language_info": {
   "codemirror_mode": {
    "name": "ipython",
    "version": 3
   },
   "file_extension": ".py",
   "mimetype": "text/x-python",
   "name": "python",
   "nbconvert_exporter": "python",
   "pygments_lexer": "ipython3",
   "version": "3.11.7"
  }
 },
 "nbformat": 4,
 "nbformat_minor": 2
}
